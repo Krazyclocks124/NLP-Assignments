{
 "cells": [
  {
   "cell_type": "code",
   "execution_count": 8,
   "id": "95bae0f4-ee87-49fb-9f48-38b46bd751c3",
   "metadata": {},
   "outputs": [
    {
     "name": "stdout",
     "output_type": "stream",
     "text": [
      "Cosine Similarity: 0.6558\n"
     ]
    }
   ],
   "source": [
    "#SiddarthSRPillai\n",
    "from sklearn.feature_extraction.text import CountVectorizer\n",
    "from sklearn.metrics.pairwise import cosine_similarity\n",
    "\n",
    "def read_file(filename):\n",
    "    \"\"\"Reads a text file and returns its content.\"\"\"\n",
    "    with open(filename, 'r', encoding='utf-8') as file:\n",
    "        return file.read()\n",
    "\n",
    "def calculate_cosine_similarity(file1, file2):\n",
    "    \"\"\"Computes the cosine similarity between two text documents.\"\"\"\n",
    "    text1 = read_file(file1)\n",
    "    text2 = read_file(file2)\n",
    "    \n",
    "    # Initialize CountVectorizer (binary=True considers only presence of words)\n",
    "    vectorizer = CountVectorizer(binary=True)\n",
    "    \n",
    "    # Fit and transform both documents\n",
    "    vectors = vectorizer.fit_transform([text1, text2])\n",
    "    \n",
    "    # Compute cosine similarity\n",
    "    similarity = cosine_similarity(vectors[0], vectors[1])\n",
    "    return similarity[0][0]\n",
    "\n",
    "file1 = \"document1.txt\"\n",
    "file2 = \"document2.txt\" \n",
    "similarity_score = calculate_cosine_similarity(file1, file2)\n",
    "print(f\"Cosine Similarity: {similarity_score:.4f}\")\n"
   ]
  },
  {
   "cell_type": "code",
   "execution_count": null,
   "id": "903be635-5bfd-41c6-9878-87a0442f52d5",
   "metadata": {},
   "outputs": [],
   "source": []
  },
  {
   "cell_type": "code",
   "execution_count": null,
   "id": "605e9161-e205-44f7-a7a4-98001d05e1cd",
   "metadata": {},
   "outputs": [],
   "source": []
  }
 ],
 "metadata": {
  "kernelspec": {
   "display_name": "Python 3 (ipykernel)",
   "language": "python",
   "name": "python3"
  },
  "language_info": {
   "codemirror_mode": {
    "name": "ipython",
    "version": 3
   },
   "file_extension": ".py",
   "mimetype": "text/x-python",
   "name": "python",
   "nbconvert_exporter": "python",
   "pygments_lexer": "ipython3",
   "version": "3.12.2"
  }
 },
 "nbformat": 4,
 "nbformat_minor": 5
}
